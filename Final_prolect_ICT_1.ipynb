{
  "nbformat": 4,
  "nbformat_minor": 0,
  "metadata": {
    "colab": {
      "name": "Final_prolect_ICT.ipynb",
      "provenance": [],
      "collapsed_sections": []
    },
    "kernelspec": {
      "name": "python3",
      "display_name": "Python 3"
    },
    "language_info": {
      "name": "python"
    }
  },
  "cells": [
    {
      "cell_type": "markdown",
      "metadata": {
        "id": "xcGSlZgQek1_"
      },
      "source": [
        "# **Final project: Sum-Product Algorithm for LDPC Codes**\n",
        "## Information and coding theory course, Skoltech 2021\n",
        "Daria Ustinova and Anastasiia Kurmukova"
      ]
    },
    {
      "cell_type": "markdown",
      "metadata": {
        "id": "7juoWGMyfTSc"
      },
      "source": [
        "Sum-Product algorithm (SPA) is a message passing algorithm, which works on the Tanner graph, corre-sponding to LDPC code.  It is known, that SPA is equivalent to maximum a posteriori probability (MAP)decoder if a Tanner graph is a tree.  Unfortunately, tree codes have minimum distance equal to 2 and baderror correcting capabilities.  So SPA is usually applied for loopy Tanner graphs."
      ]
    },
    {
      "cell_type": "markdown",
      "metadata": {
        "id": "zXMenEByljSs"
      },
      "source": [
        "## Extract given H and G"
      ]
    },
    {
      "cell_type": "code",
      "metadata": {
        "colab": {
          "base_uri": "https://localhost:8080/"
        },
        "id": "mZ6PY2P0fQLB",
        "outputId": "458e824f-a286-4339-e279-43301ca968e5"
      },
      "source": [
        "!wget https://www.dropbox.com/s/w7a5508euoctt8q/matlab_codes_to_test_LDPC_QPSK_R50_BP50_K120_N240.zip?dl=0 -O matlab_codes_to_test_LDPC_QPSK_R50_BP50_K120_N240.zipmatlab_codes_to_test_LDPC_QPSK_R50_BP50_K120_N240.zip\n",
        "!unzip -n matlab_codes_to_test_LDPC_QPSK_R50_BP50_K120_N240.zipmatlab_codes_to_test_LDPC_QPSK_R50_BP50_K120_N240.zip\n",
        "!pip install pyldpc"
      ],
      "execution_count": null,
      "outputs": [
        {
          "output_type": "stream",
          "text": [
            "--2021-03-28 06:10:22--  https://www.dropbox.com/s/w7a5508euoctt8q/matlab_codes_to_test_LDPC_QPSK_R50_BP50_K120_N240.zip?dl=0\n",
            "Resolving www.dropbox.com (www.dropbox.com)... 162.125.65.18, 2620:100:6021:18::a27d:4112\n",
            "Connecting to www.dropbox.com (www.dropbox.com)|162.125.65.18|:443... connected.\n",
            "HTTP request sent, awaiting response... 301 Moved Permanently\n",
            "Location: /s/raw/w7a5508euoctt8q/matlab_codes_to_test_LDPC_QPSK_R50_BP50_K120_N240.zip [following]\n",
            "--2021-03-28 06:10:23--  https://www.dropbox.com/s/raw/w7a5508euoctt8q/matlab_codes_to_test_LDPC_QPSK_R50_BP50_K120_N240.zip\n",
            "Reusing existing connection to www.dropbox.com:443.\n",
            "HTTP request sent, awaiting response... 302 Found\n",
            "Location: https://uc84dcd31b7fed00bdc5edb3a81d.dl.dropboxusercontent.com/cd/0/inline/BLjyv2OFaXDzaoFIhAhOIHD4Z0H7omnzMhBXs-7x72zMuhLPTQuHiz0MD997yP66Ucq3TdoPbZCMoVHMA5r1i7Q4V1us8eOqDcsmifuApDp4Rmp1PnHK5qYQAvwMbXwDsRpezdI3SRlElgxhXhOYbY5F/file# [following]\n",
            "--2021-03-28 06:10:23--  https://uc84dcd31b7fed00bdc5edb3a81d.dl.dropboxusercontent.com/cd/0/inline/BLjyv2OFaXDzaoFIhAhOIHD4Z0H7omnzMhBXs-7x72zMuhLPTQuHiz0MD997yP66Ucq3TdoPbZCMoVHMA5r1i7Q4V1us8eOqDcsmifuApDp4Rmp1PnHK5qYQAvwMbXwDsRpezdI3SRlElgxhXhOYbY5F/file\n",
            "Resolving uc84dcd31b7fed00bdc5edb3a81d.dl.dropboxusercontent.com (uc84dcd31b7fed00bdc5edb3a81d.dl.dropboxusercontent.com)... 162.125.65.15, 2620:100:6027:15::a27d:480f\n",
            "Connecting to uc84dcd31b7fed00bdc5edb3a81d.dl.dropboxusercontent.com (uc84dcd31b7fed00bdc5edb3a81d.dl.dropboxusercontent.com)|162.125.65.15|:443... connected.\n",
            "HTTP request sent, awaiting response... 302 Found\n",
            "Location: /cd/0/inline2/BLhA7I1P-LaW2t1gUWGW7IS1xD_IfuNhUCr4aE5QPG5X0yJ7KxmxhkYY9SW90ZcJkuYeYCW8-jB3PhKd4L9r_e2zsYLoFNbnriWyktXS37D6hyYIpotPhoO7sc_6c3C_sDSRjoDmirQcUtlFV_1Hhyv1EW_QUbMi_jnao4IJFfckZBcSQ-vvXiRYp89OUsSASa7-n5kg7LfsrrqfoTFoCAuUurjVimP1rjXfpXwjwNuykVFQyqC7m3f4J5JbK5nMRgIsxF26ZNQcNf0IUu75vSKhsUI4ATw2d_mbYNgpaRVbbX74IOFlGcLwALwp3cd7Wj-XNM-JmozXv7A9oiIUVwQpi9EP9mSbaWUTHu0yUlnCoj9OXsWRvgzwEdxno--bWT4/file [following]\n",
            "--2021-03-28 06:10:24--  https://uc84dcd31b7fed00bdc5edb3a81d.dl.dropboxusercontent.com/cd/0/inline2/BLhA7I1P-LaW2t1gUWGW7IS1xD_IfuNhUCr4aE5QPG5X0yJ7KxmxhkYY9SW90ZcJkuYeYCW8-jB3PhKd4L9r_e2zsYLoFNbnriWyktXS37D6hyYIpotPhoO7sc_6c3C_sDSRjoDmirQcUtlFV_1Hhyv1EW_QUbMi_jnao4IJFfckZBcSQ-vvXiRYp89OUsSASa7-n5kg7LfsrrqfoTFoCAuUurjVimP1rjXfpXwjwNuykVFQyqC7m3f4J5JbK5nMRgIsxF26ZNQcNf0IUu75vSKhsUI4ATw2d_mbYNgpaRVbbX74IOFlGcLwALwp3cd7Wj-XNM-JmozXv7A9oiIUVwQpi9EP9mSbaWUTHu0yUlnCoj9OXsWRvgzwEdxno--bWT4/file\n",
            "Reusing existing connection to uc84dcd31b7fed00bdc5edb3a81d.dl.dropboxusercontent.com:443.\n",
            "HTTP request sent, awaiting response... 200 OK\n",
            "Length: 10310 (10K) [application/zip]\n",
            "Saving to: ‘matlab_codes_to_test_LDPC_QPSK_R50_BP50_K120_N240.zipmatlab_codes_to_test_LDPC_QPSK_R50_BP50_K120_N240.zip’\n",
            "\n",
            "matlab_codes_to_tes 100%[===================>]  10.07K  --.-KB/s    in 0s      \n",
            "\n",
            "2021-03-28 06:10:24 (165 MB/s) - ‘matlab_codes_to_test_LDPC_QPSK_R50_BP50_K120_N240.zipmatlab_codes_to_test_LDPC_QPSK_R50_BP50_K120_N240.zip’ saved [10310/10310]\n",
            "\n",
            "Archive:  matlab_codes_to_test_LDPC_QPSK_R50_BP50_K120_N240.zipmatlab_codes_to_test_LDPC_QPSK_R50_BP50_K120_N240.zip\n",
            "  inflating: matlab_codes_to_test_LDPC_QPSK_R50_BP50_K120_N240.mat  \n",
            "Collecting pyldpc\n",
            "\u001b[?25l  Downloading https://files.pythonhosted.org/packages/e1/aa/fd5495869c7106a638ae71aa497d7d266cae7f2a343d1f6a9d0e3a986e1e/pyldpc-0.7.9.tar.gz (1.1MB)\n",
            "\u001b[K     |████████████████████████████████| 1.1MB 9.2MB/s \n",
            "\u001b[?25hRequirement already satisfied: numpy in /usr/local/lib/python3.7/dist-packages (from pyldpc) (1.19.5)\n",
            "Requirement already satisfied: scipy in /usr/local/lib/python3.7/dist-packages (from pyldpc) (1.4.1)\n",
            "Requirement already satisfied: numba in /usr/local/lib/python3.7/dist-packages (from pyldpc) (0.51.2)\n",
            "Requirement already satisfied: setuptools in /usr/local/lib/python3.7/dist-packages (from numba->pyldpc) (54.1.2)\n",
            "Requirement already satisfied: llvmlite<0.35,>=0.34.0.dev0 in /usr/local/lib/python3.7/dist-packages (from numba->pyldpc) (0.34.0)\n",
            "Building wheels for collected packages: pyldpc\n",
            "  Building wheel for pyldpc (setup.py) ... \u001b[?25l\u001b[?25hdone\n",
            "  Created wheel for pyldpc: filename=pyldpc-0.7.9-cp37-none-any.whl size=14305 sha256=c667db0677239efe570fccc813984a53839d26d1cfbff1514009543dae6be378\n",
            "  Stored in directory: /root/.cache/pip/wheels/47/7a/10/e94058ba8b0b6d98bf2719226d18d3dd6056525ad7b984c068\n",
            "Successfully built pyldpc\n",
            "Installing collected packages: pyldpc\n",
            "Successfully installed pyldpc-0.7.9\n"
          ],
          "name": "stdout"
        }
      ]
    },
    {
      "cell_type": "code",
      "metadata": {
        "id": "l0VJ0QWghrlU"
      },
      "source": [
        "import numpy as np\n",
        "import h5py\n",
        "from pyldpc import make_ldpc, encode, decode, get_message\n",
        "f = h5py.File('matlab_codes_to_test_LDPC_QPSK_R50_BP50_K120_N240.mat','r')\n",
        "H = f.get('data/H')\n",
        "H = np.array(H).T # For converting to a NumPy array\n",
        "G = f.get('data/G')\n",
        "G = np.array(G).T"
      ],
      "execution_count": null,
      "outputs": []
    },
    {
      "cell_type": "code",
      "metadata": {
        "colab": {
          "base_uri": "https://localhost:8080/"
        },
        "id": "6h0OGKmFBjbd",
        "outputId": "85b254c4-e32c-4011-fd9a-2ce765c7ab95"
      },
      "source": [
        "np.sum(H,axis=1)"
      ],
      "execution_count": null,
      "outputs": [
        {
          "output_type": "execute_result",
          "data": {
            "text/plain": [
              "array([6., 6., 6., 6., 6., 6., 6., 6., 6., 6., 6., 6., 6., 6., 6., 6., 6.,\n",
              "       6., 6., 6., 6., 6., 6., 6., 6., 6., 6., 6., 6., 6., 6., 6., 6., 6.,\n",
              "       6., 6., 6., 6., 6., 6., 7., 7., 7., 7., 7., 7., 7., 7., 7., 7., 7.,\n",
              "       7., 7., 7., 7., 7., 7., 7., 7., 7., 6., 6., 6., 6., 6., 6., 6., 6.,\n",
              "       6., 6., 6., 6., 6., 6., 6., 6., 6., 6., 6., 6., 4., 4., 4., 4., 4.,\n",
              "       4., 4., 4., 4., 4., 4., 4., 4., 4., 4., 4., 4., 4., 4., 4., 5., 5.,\n",
              "       5., 5., 5., 5., 5., 5., 5., 5., 5., 5., 5., 5., 5., 5., 5., 5., 5.,\n",
              "       5., 4., 4., 4., 4., 4., 4., 4., 4., 4., 4., 4., 4., 4., 4., 4., 4.,\n",
              "       4., 4., 4., 4., 5., 5., 5., 5., 5., 5., 5., 5., 5., 5., 5., 5., 5.,\n",
              "       5., 5., 5., 5., 5., 5., 5.])"
            ]
          },
          "metadata": {
            "tags": []
          },
          "execution_count": 3
        }
      ]
    },
    {
      "cell_type": "markdown",
      "metadata": {
        "id": "CrpwF38IqEpE"
      },
      "source": [
        "Thus, our code is irregular"
      ]
    },
    {
      "cell_type": "code",
      "metadata": {
        "colab": {
          "base_uri": "https://localhost:8080/"
        },
        "id": "PTQrZx9lHghs",
        "outputId": "f681f168-d1a2-4acf-855d-3a1f14cafe70"
      },
      "source": [
        "G.shape"
      ],
      "execution_count": null,
      "outputs": [
        {
          "output_type": "execute_result",
          "data": {
            "text/plain": [
              "(120, 280)"
            ]
          },
          "metadata": {
            "tags": []
          },
          "execution_count": 4
        }
      ]
    },
    {
      "cell_type": "markdown",
      "metadata": {
        "id": "eu-o4kLCqJLb"
      },
      "source": [
        "We have k = 120 and n = 280"
      ]
    },
    {
      "cell_type": "markdown",
      "metadata": {
        "id": "Z_Keb9kVlpUI"
      },
      "source": [
        "## Implement sum-product decoder"
      ]
    },
    {
      "cell_type": "code",
      "metadata": {
        "id": "HJscWmUgtLhZ"
      },
      "source": [
        "def ldpc_decode(cdw,sigma,H):\n",
        "  # initial step of decoding\n",
        "\n",
        "    L_ch = 2*cdw/sigma\n",
        "    L_v = L_ch\n",
        "    L_c = np.zeros(H.shape[0])\n",
        "    msg_table = np.ones(H.shape)\n",
        "\n",
        "    for i in np.arange(len(L_v)): # collect messages from variable nodes to check\n",
        "        msg_table[:,i][H[:,i]==1] = np.tanh(L_v[i]/2)\n",
        "\n",
        "    new_msg_table = msg_table.copy()\n",
        "\n",
        "    for iter in np.arange(100):\n",
        "\n",
        "        if iter!=0:\n",
        "            for ii in np.arange(H.shape[0]): \n",
        "                for jj in np.arange(H.shape[1]):\n",
        "                    if H[ii,jj] ==1 :\n",
        "                        msg_table[ii,jj] =  np.tanh((L_v[jj]-new_msg_table[ii,jj])/2)\n",
        "                        if msg_table[ii,jj]==1:\n",
        "                            msg_table[ii,jj] = 1-1e-15 # for safe arctanh computation\n",
        "                            \n",
        "                        if msg_table[ii,jj]==-1:\n",
        "                            msg_table[ii,jj] = -1+1e-15 # for safe arctanh computation\n",
        "       # print(msg_table)\n",
        "\n",
        "        for ii in np.arange(H.shape[0]): \n",
        "            for jj in np.arange(H.shape[1]):\n",
        "                if H[ii,jj] == 1:\n",
        "                    #messages from check to variable nodes\n",
        "\n",
        "                    new_msg_table[ii,jj] =  2*np.arctanh(np.prod(msg_table[ii,:][:jj])*np.prod(msg_table[ii,:][jj+1:]))\n",
        "\n",
        "        for j in np.arange(len(L_v)): # update sum of all check node's message\n",
        "            L_v[j] = np.sum(new_msg_table[:,j][H[:,j]==1]) + L_ch[j]\n",
        "\n",
        "\n",
        "    return (1-np.sign(L_v))/2 #hard decision"
      ],
      "execution_count": null,
      "outputs": []
    },
    {
      "cell_type": "code",
      "metadata": {
        "id": "SDzFTcJzuhOu"
      },
      "source": [
        "k = G.shape[0]\n",
        "n = G.shape[1]"
      ],
      "execution_count": null,
      "outputs": []
    },
    {
      "cell_type": "code",
      "metadata": {
        "id": "rtC9xKyvB1-O"
      },
      "source": [
        "snr_db=1\n",
        "sigma = 10**(-snr_db/20)\n",
        "iwd = np.random.randint(2, size=(k))\n",
        "cwd = np.mod(iwd@G,2)\n",
        "cwd_modulated = 1 - 2*cwd\n",
        "cwd_noised = cwd_modulated + np.random.normal(loc=0.0, scale=sigma, size=n)\n",
        "#cdw = 1- 2* np.mod((iwd.reshape(-1,1).T)@G,2) # encoding"
      ],
      "execution_count": null,
      "outputs": []
    },
    {
      "cell_type": "code",
      "metadata": {
        "id": "628PGYGwuQ-t"
      },
      "source": [
        "dec = ldpc_decode(cwd_noised,sigma,H)"
      ],
      "execution_count": null,
      "outputs": []
    },
    {
      "cell_type": "code",
      "metadata": {
        "colab": {
          "base_uri": "https://localhost:8080/"
        },
        "id": "cfuxp5Lu4Poe",
        "outputId": "294e9a6b-dec6-4ace-96b1-a297f225e8aa"
      },
      "source": [
        "(cwd-dec)[(cwd-dec)!=0]"
      ],
      "execution_count": null,
      "outputs": [
        {
          "output_type": "execute_result",
          "data": {
            "text/plain": [
              "array([], dtype=float64)"
            ]
          },
          "metadata": {
            "tags": []
          },
          "execution_count": 22
        }
      ]
    },
    {
      "cell_type": "markdown",
      "metadata": {
        "id": "wSniIO1XltZT"
      },
      "source": [
        "## Decoding MNIST digits"
      ]
    },
    {
      "cell_type": "code",
      "metadata": {
        "id": "ip76CMNvB1Ww"
      },
      "source": [
        "from keras.datasets import mnist"
      ],
      "execution_count": null,
      "outputs": []
    },
    {
      "cell_type": "code",
      "metadata": {
        "id": "_hcE7zscDZX3"
      },
      "source": [
        "class ldpc_coder_image():\n",
        "    \n",
        "    def binarize_img(self, img):\n",
        "        x, y = img.shape\n",
        "        bin_ = []\n",
        "        for elem in img.flatten():\n",
        "            a = list(bin(elem)[2:])\n",
        "            bin_.append(np.concatenate((np.zeros(8 - len(a)), np.array(a).astype(int))).astype(int))\n",
        "        return np.array(bin_).reshape(x,y,8)\n",
        "\n",
        "    def encode(self, G, info):\n",
        "        binary_code = G.T@info % 2\n",
        "        return 1 - 2*binary_code # 0 to 1, 1 to -1\n",
        "\n",
        "    def add_noise(self, code, snr, random_state=None):\n",
        "        rng = np.random.RandomState(0)\n",
        "        return code + rng.randn(*code.shape) * pow(10, (- snr / 20))\n",
        "\n",
        "    def encode_img(self, G, bin_img):\n",
        "        k, n = G.shape\n",
        "        self.x, self.y, self.z = bin_img.shape\n",
        "        flatten_img = bin_img.flatten()\n",
        "        self.l_img = len(flatten_img)\n",
        "        n_codewords = np.ceil(self.l_img / k)\n",
        "        info_ = np.zeros(int(n_codewords * k))\n",
        "        info_[:self.l_img] = flatten_img\n",
        "        info_ = info_.reshape(int(k), int(n_codewords))\n",
        "        code_ = self.encode(G, info_)\n",
        "        return code_\n",
        "\n",
        "    def channel_img(self, encoded_img, snr, random_state=None):\n",
        "        noisy_code = self.add_noise(encoded_img, snr, random_state)\n",
        "        self.noisy_image = (noisy_code.flatten()[:self.l_img] < 0).astype(int).reshape(self.x, self.y, self.z)\n",
        "        return noisy_code\n",
        "    \n",
        "    def unbinarize_img(self, img):\n",
        "        x, y, z = img.shape\n",
        "        unbin_img = np.zeros((x,y))\n",
        "        for i in range(x):\n",
        "            for j in range(y):\n",
        "                bin_array = img[i,j,:]\n",
        "                s = ''.join(bin_array.astype(str))\n",
        "                unbin_img[i,j] = int(s, 2)\n",
        "        return unbin_img\n",
        "    \n",
        "    def coding(self, img, G, snr, random_state=None):\n",
        "        bin_img = self.binarize_img(img)\n",
        "        code = self.encode_img(G, bin_img)\n",
        "        noisy_code = self.channel_img(code, snr, random_state)\n",
        "        unbin_noisy_img = self.unbinarize_img(self.noisy_image)\n",
        "        return bin_img, code, noisy_code, unbin_noisy_img"
      ],
      "execution_count": null,
      "outputs": []
    },
    {
      "cell_type": "code",
      "metadata": {
        "id": "ktaviT-VB21b",
        "colab": {
          "base_uri": "https://localhost:8080/"
        },
        "outputId": "8587c03c-7b45-415f-aa02-0efd65ff0aef"
      },
      "source": [
        "(X_train, y_train), (X_test, y_test)  = mnist.load_data()"
      ],
      "execution_count": null,
      "outputs": [
        {
          "output_type": "stream",
          "text": [
            "Downloading data from https://storage.googleapis.com/tensorflow/tf-keras-datasets/mnist.npz\n",
            "11493376/11490434 [==============================] - 0s 0us/step\n"
          ],
          "name": "stdout"
        }
      ]
    },
    {
      "cell_type": "markdown",
      "metadata": {
        "id": "9Hmw83PDVB9T"
      },
      "source": [
        "### Digit decoding for snr = 8"
      ]
    },
    {
      "cell_type": "code",
      "metadata": {
        "colab": {
          "base_uri": "https://localhost:8080/",
          "height": 282
        },
        "id": "1VY2_lVwFKOe",
        "outputId": "c426f4df-d997-4f68-87d6-3f598812d8f6"
      },
      "source": [
        "from matplotlib import pyplot as plt\n",
        "plt.imshow(X_train[1])"
      ],
      "execution_count": null,
      "outputs": [
        {
          "output_type": "execute_result",
          "data": {
            "text/plain": [
              "<matplotlib.image.AxesImage at 0x7f0cea730710>"
            ]
          },
          "metadata": {
            "tags": []
          },
          "execution_count": 23
        },
        {
          "output_type": "display_data",
          "data": {
            "image/png": "[encoded data removed]",
            "text/plain": [
              "<Figure size 432x288 with 1 Axes>"
            ]
          },
          "metadata": {
            "tags": [],
            "needs_background": "light"
          }
        }
      ]
    },
    {
      "cell_type": "code",
      "metadata": {
        "id": "CA1UIUcPDfTh"
      },
      "source": [
        "snr=8\n",
        "sigma = 10**(-snr/10)\n",
        "ldpc = ldpc_coder_image()\n",
        "bin_img, code, noisy_code, unbin_noisy_img = ldpc.coding(X_train[1], G, snr, random_state=1)"
      ],
      "execution_count": null,
      "outputs": []
    },
    {
      "cell_type": "code",
      "metadata": {
        "colab": {
          "base_uri": "https://localhost:8080/",
          "height": 282
        },
        "id": "1LRiH4b1KvXY",
        "outputId": "6d80a194-dc84-4464-f707-a138939ad958"
      },
      "source": [
        "plt.imshow(unbin_noisy_img)"
      ],
      "execution_count": null,
      "outputs": [
        {
          "output_type": "execute_result",
          "data": {
            "text/plain": [
              "<matplotlib.image.AxesImage at 0x7f0ce691c650>"
            ]
          },
          "metadata": {
            "tags": []
          },
          "execution_count": 32
        },
        {
          "output_type": "display_data",
          "data": {
            "image/png": "[encoded data removed]",
            "text/plain": [
              "<Figure size 432x288 with 1 Axes>"
            ]
          },
          "metadata": {
            "tags": [],
            "needs_background": "light"
          }
        }
      ]
    },
    {
      "cell_type": "code",
      "metadata": {
        "id": "LAFlyZUoK29s"
      },
      "source": [
        "decoded = []\n",
        "for i in range(noisy_code.shape[1]):\n",
        "  decoded.append(ldpc_decode(noisy_code[:, i],sigma,H))"
      ],
      "execution_count": null,
      "outputs": []
    },
    {
      "cell_type": "code",
      "metadata": {
        "id": "Ybth3QFYTpUP"
      },
      "source": [
        "img_dec = ldpc.unbinarize_img((np.array(decoded).T.flatten()[:ldpc.l_img]).astype(int).reshape(ldpc.x, ldpc.y, ldpc.z))"
      ],
      "execution_count": null,
      "outputs": []
    },
    {
      "cell_type": "code",
      "metadata": {
        "colab": {
          "base_uri": "https://localhost:8080/",
          "height": 282
        },
        "id": "fW0-Gg7uTvuN",
        "outputId": "8453f060-0f7d-490f-950d-0f0680a9c968"
      },
      "source": [
        "plt.imshow(img_dec)"
      ],
      "execution_count": null,
      "outputs": [
        {
          "output_type": "execute_result",
          "data": {
            "text/plain": [
              "<matplotlib.image.AxesImage at 0x7f0ce65f6c10>"
            ]
          },
          "metadata": {
            "tags": []
          },
          "execution_count": 47
        },
        {
          "output_type": "display_data",
          "data": {
            "image/png": "[encoded data removed]",
            "text/plain": [
              "<Figure size 432x288 with 1 Axes>"
            ]
          },
          "metadata": {
            "tags": [],
            "needs_background": "light"
          }
        }
      ]
    },
    {
      "cell_type": "markdown",
      "metadata": {
        "id": "pqlRGgDNVYAh"
      },
      "source": [
        "### Digit decoding for snr = 1\n"
      ]
    },
    {
      "cell_type": "code",
      "metadata": {
        "colab": {
          "base_uri": "https://localhost:8080/",
          "height": 282
        },
        "id": "nUI2DMT3Tvy8",
        "outputId": "bccf9c00-ee5b-494c-e4cd-3c70a5c690f0"
      },
      "source": [
        "plt.imshow(X_train[2])"
      ],
      "execution_count": null,
      "outputs": [
        {
          "output_type": "execute_result",
          "data": {
            "text/plain": [
              "<matplotlib.image.AxesImage at 0x7f0ce65a2f50>"
            ]
          },
          "metadata": {
            "tags": []
          },
          "execution_count": 49
        },
        {
          "output_type": "display_data",
          "data": {
            "image/png": "[encoded data removed]",
            "text/plain": [
              "<Figure size 432x288 with 1 Axes>"
            ]
          },
          "metadata": {
            "tags": [],
            "needs_background": "light"
          }
        }
      ]
    },
    {
      "cell_type": "code",
      "metadata": {
        "id": "wPQJXNDbc1F4"
      },
      "source": [
        "snr=1\n",
        "sigma = 10**(-snr/10)\n",
        "ldpc = ldpc_coder_image()\n",
        "bin_img, code, noisy_code, unbin_noisy_img = ldpc.coding(X_train[2], G, snr, random_state=1)"
      ],
      "execution_count": null,
      "outputs": []
    },
    {
      "cell_type": "code",
      "metadata": {
        "colab": {
          "base_uri": "https://localhost:8080/",
          "height": 282
        },
        "id": "lDMERxN8c1Nl",
        "outputId": "27a34389-8877-4598-f37e-ddf4173904f4"
      },
      "source": [
        "plt.imshow(unbin_noisy_img)"
      ],
      "execution_count": null,
      "outputs": [
        {
          "output_type": "execute_result",
          "data": {
            "text/plain": [
              "<matplotlib.image.AxesImage at 0x7f0ce6480bd0>"
            ]
          },
          "metadata": {
            "tags": []
          },
          "execution_count": 53
        },
        {
          "output_type": "display_data",
          "data": {
            "image/png": "[encoded data removed]",
            "text/plain": [
              "<Figure size 432x288 with 1 Axes>"
            ]
          },
          "metadata": {
            "tags": [],
            "needs_background": "light"
          }
        }
      ]
    },
    {
      "cell_type": "code",
      "metadata": {
        "id": "3TBz0Eykc1T6"
      },
      "source": [
        "decoded1 = []\n",
        "for i in range(noisy_code.shape[1]):\n",
        "  decoded1.append(ldpc_decode(noisy_code[:, i],sigma,H))"
      ],
      "execution_count": null,
      "outputs": []
    },
    {
      "cell_type": "code",
      "metadata": {
        "id": "gHwgpUBddTj5"
      },
      "source": [
        "img_dec = ldpc.unbinarize_img((np.array(decoded1).T.flatten()[:ldpc.l_img]).astype(int).reshape(ldpc.x, ldpc.y, ldpc.z))"
      ],
      "execution_count": null,
      "outputs": []
    },
    {
      "cell_type": "code",
      "metadata": {
        "colab": {
          "base_uri": "https://localhost:8080/",
          "height": 282
        },
        "id": "F1PkRL94mSfz",
        "outputId": "88a34e91-9acf-4aad-a252-7de0a5cae32a"
      },
      "source": [
        "plt.imshow(img_dec)"
      ],
      "execution_count": null,
      "outputs": [
        {
          "output_type": "execute_result",
          "data": {
            "text/plain": [
              "<matplotlib.image.AxesImage at 0x7f0ce63f5450>"
            ]
          },
          "metadata": {
            "tags": []
          },
          "execution_count": 56
        },
        {
          "output_type": "display_data",
          "data": {
            "image/png": "[encoded data removed]",
            "text/plain": [
              "<Figure size 432x288 with 1 Axes>"
            ]
          },
          "metadata": {
            "tags": [],
            "needs_background": "light"
          }
        }
      ]
    },
    {
      "cell_type": "markdown",
      "metadata": {
        "id": "mf4OjSv5VeEG"
      },
      "source": [
        "### Digit decoding for snr = 3"
      ]
    },
    {
      "cell_type": "code",
      "metadata": {
        "colab": {
          "base_uri": "https://localhost:8080/",
          "height": 282
        },
        "id": "8MHuD3y5mSvG",
        "outputId": "86d6f2e3-4e20-4eeb-f8d2-30a2eedd56a6"
      },
      "source": [
        "plt.imshow(X_train[4])"
      ],
      "execution_count": null,
      "outputs": [
        {
          "output_type": "execute_result",
          "data": {
            "text/plain": [
              "<matplotlib.image.AxesImage at 0x7f0ce61fcd50>"
            ]
          },
          "metadata": {
            "tags": []
          },
          "execution_count": 63
        },
        {
          "output_type": "display_data",
          "data": {
            "image/png": "[encoded data removed]",
            "text/plain": [
              "<Figure size 432x288 with 1 Axes>"
            ]
          },
          "metadata": {
            "tags": [],
            "needs_background": "light"
          }
        }
      ]
    },
    {
      "cell_type": "code",
      "metadata": {
        "id": "cy_mBUqkm0pk"
      },
      "source": [
        "snr=3\n",
        "sigma = 10**(-snr/10)\n",
        "ldpc = ldpc_coder_image()\n",
        "bin_img, code, noisy_code, unbin_noisy_img = ldpc.coding(X_train[4], G, snr, random_state=1)"
      ],
      "execution_count": null,
      "outputs": []
    },
    {
      "cell_type": "code",
      "metadata": {
        "colab": {
          "base_uri": "https://localhost:8080/",
          "height": 282
        },
        "id": "l-gxn2vQm01X",
        "outputId": "eb2012fd-eacb-4c12-e15e-faefdb28cc2c"
      },
      "source": [
        "plt.imshow(unbin_noisy_img)"
      ],
      "execution_count": null,
      "outputs": [
        {
          "output_type": "execute_result",
          "data": {
            "text/plain": [
              "<matplotlib.image.AxesImage at 0x7f0ce61e7750>"
            ]
          },
          "metadata": {
            "tags": []
          },
          "execution_count": 65
        },
        {
          "output_type": "display_data",
          "data": {
            "image/png": "[encoded data removed]",
            "text/plain": [
              "<Figure size 432x288 with 1 Axes>"
            ]
          },
          "metadata": {
            "tags": [],
            "needs_background": "light"
          }
        }
      ]
    },
    {
      "cell_type": "code",
      "metadata": {
        "id": "gLagCV1rm0-D"
      },
      "source": [
        "decoded2 = []\n",
        "for i in range(noisy_code.shape[1]):\n",
        "  decoded2.append(ldpc_decode(noisy_code[:, i],sigma,H))"
      ],
      "execution_count": null,
      "outputs": []
    },
    {
      "cell_type": "code",
      "metadata": {
        "id": "3oE3jeRam1JB"
      },
      "source": [
        "img_dec = ldpc.unbinarize_img((np.array(decoded2).T.flatten()[:ldpc.l_img]).astype(int).reshape(ldpc.x, ldpc.y, ldpc.z))"
      ],
      "execution_count": null,
      "outputs": []
    },
    {
      "cell_type": "code",
      "metadata": {
        "id": "Oq2CAb6hm1Vt",
        "colab": {
          "base_uri": "https://localhost:8080/",
          "height": 282
        },
        "outputId": "d1a28f3e-07f3-484c-b570-ca165cd0f94c"
      },
      "source": [
        "plt.imshow(img_dec)"
      ],
      "execution_count": null,
      "outputs": [
        {
          "output_type": "execute_result",
          "data": {
            "text/plain": [
              "<matplotlib.image.AxesImage at 0x7f0ce6158410>"
            ]
          },
          "metadata": {
            "tags": []
          },
          "execution_count": 68
        },
        {
          "output_type": "display_data",
          "data": {
            "image/png": "[encoded data removed]",
            "text/plain": [
              "<Figure size 432x288 with 1 Axes>"
            ]
          },
          "metadata": {
            "tags": [],
            "needs_background": "light"
          }
        }
      ]
    },
    {
      "cell_type": "markdown",
      "metadata": {
        "id": "-RBeXXDlVhhe"
      },
      "source": [
        "### Evolution of digit decoding for snr = 2"
      ]
    },
    {
      "cell_type": "code",
      "metadata": {
        "id": "6HaIIgZhm1eW",
        "colab": {
          "base_uri": "https://localhost:8080/",
          "height": 282
        },
        "outputId": "1ed5374e-1a3e-4668-f2c1-b355d6cadae5"
      },
      "source": [
        "plt.imshow(X_train[5])"
      ],
      "execution_count": null,
      "outputs": [
        {
          "output_type": "execute_result",
          "data": {
            "text/plain": [
              "<matplotlib.image.AxesImage at 0x7f0ce60c4210>"
            ]
          },
          "metadata": {
            "tags": []
          },
          "execution_count": 71
        },
        {
          "output_type": "display_data",
          "data": {
            "image/png": "[encoded data removed]",
            "text/plain": [
              "<Figure size 432x288 with 1 Axes>"
            ]
          },
          "metadata": {
            "tags": [],
            "needs_background": "light"
          }
        }
      ]
    },
    {
      "cell_type": "code",
      "metadata": {
        "id": "orR8LBtpO3wD"
      },
      "source": [
        "snr=2\n",
        "sigma = 10**(-snr/10)\n",
        "ldpc = ldpc_coder_image()\n",
        "bin_img, code, noisy_code, unbin_noisy_img = ldpc.coding(X_train[5], G, snr, random_state=1)"
      ],
      "execution_count": null,
      "outputs": []
    },
    {
      "cell_type": "code",
      "metadata": {
        "colab": {
          "base_uri": "https://localhost:8080/",
          "height": 282
        },
        "id": "jZOIKyEqO3zh",
        "outputId": "cb357668-4dfa-4b15-c0fe-a606623e6207"
      },
      "source": [
        "plt.imshow(unbin_noisy_img)"
      ],
      "execution_count": null,
      "outputs": [
        {
          "output_type": "execute_result",
          "data": {
            "text/plain": [
              "<matplotlib.image.AxesImage at 0x7f0ce609fdd0>"
            ]
          },
          "metadata": {
            "tags": []
          },
          "execution_count": 72
        },
        {
          "output_type": "display_data",
          "data": {
            "image/png": "[encoded data removed]",
            "text/plain": [
              "<Figure size 432x288 with 1 Axes>"
            ]
          },
          "metadata": {
            "tags": [],
            "needs_background": "light"
          }
        }
      ]
    },
    {
      "cell_type": "code",
      "metadata": {
        "id": "yvmoHPLmO36n"
      },
      "source": [
        "def ldpc_decode_iterations(cdw,sigma,H):\n",
        "  # initial step of decoding\n",
        "    #p_1 = np.ones(H.shape[1])/(np.ones(H.shape[1])+np.exp(-2*cdw/(sigma**2))) # Pr(r|v=1)\n",
        "    #p_0 = np.ones(H.shape[1]) - p_1 # Pr(r|v=0)\n",
        "    #L_ch = p_0-p_1 # Channel LLR's for variable nodes\n",
        "    #print(L_ch.shape)\n",
        "    L_ch = 2*cdw/sigma\n",
        "    L_v = L_ch\n",
        "    L_c = np.zeros(H.shape[0])\n",
        "    msg_table = np.ones(H.shape)\n",
        "\n",
        "    for i in np.arange(len(L_v)): # collect messages from variable nodes to check\n",
        "        msg_table[:,i][H[:,i]==1] = np.tanh(L_v[i]/2)\n",
        "\n",
        "    new_msg_table = msg_table.copy()\n",
        "    ans = []\n",
        "    for iter in np.arange(20):\n",
        "\n",
        "        if iter!=0:\n",
        "            for ii in np.arange(H.shape[0]): \n",
        "                for jj in np.arange(H.shape[1]):\n",
        "                    if H[ii,jj] ==1 :\n",
        "                        msg_table[ii,jj] =  np.tanh((L_v[jj]-new_msg_table[ii,jj])/2)\n",
        "                        if msg_table[ii,jj]==1:\n",
        "                            msg_table[ii,jj] = 1-1e-15 # for safe arctanh computation\n",
        "                            \n",
        "                        if msg_table[ii,jj]==-1:\n",
        "                            msg_table[ii,jj] = -1+1e-15 # for safe arctanh computation\n",
        "       # print(msg_table)\n",
        "\n",
        "        for ii in np.arange(H.shape[0]): \n",
        "            for jj in np.arange(H.shape[1]):\n",
        "                if H[ii,jj] == 1:\n",
        "                    #messages from check to variable nodes\n",
        "\n",
        "                    new_msg_table[ii,jj] =  2*np.arctanh(np.prod(msg_table[ii,:][:jj])*np.prod(msg_table[ii,:][jj+1:]))\n",
        "\n",
        "        for j in np.arange(len(L_v)): # update sum of all check node's message\n",
        "            L_v[j] = np.sum(new_msg_table[:,j][H[:,j]==1]) + L_ch[j]\n",
        "          \n",
        "        ans.append((1-np.sign(L_v))/2)\n",
        "\n",
        "\n",
        "    return ans #hard decision"
      ],
      "execution_count": null,
      "outputs": []
    },
    {
      "cell_type": "code",
      "metadata": {
        "id": "IaVuYAkuPCsB"
      },
      "source": [
        "decoded_iters = []\n",
        "for i in range(noisy_code.shape[1]):\n",
        "  decoded_iters.append(ldpc_decode_iterations(noisy_code[:, i],sigma,H))"
      ],
      "execution_count": null,
      "outputs": []
    },
    {
      "cell_type": "code",
      "metadata": {
        "id": "yOcX1NV7PCvu"
      },
      "source": [
        "iters = [0, 1, 2, 3, 4, 5, 9, 14]\n",
        "img_dec_array = []\n",
        "for i in iters:\n",
        "  img_dec = ldpc.unbinarize_img((np.array(decoded_iters)[:,i,:].T.flatten()[:ldpc.l_img]).astype(int).reshape(ldpc.x, ldpc.y, ldpc.z))\n",
        "  img_dec_array.append(img_dec)"
      ],
      "execution_count": null,
      "outputs": []
    },
    {
      "cell_type": "code",
      "metadata": {
        "colab": {
          "base_uri": "https://localhost:8080/",
          "height": 166
        },
        "id": "2WLfjYN8P3dp",
        "outputId": "d6ca8917-513a-47c1-e635-d629316c5c1f"
      },
      "source": [
        "f, ax  = plt.subplots(1,8, figsize=(20, 10))\n",
        "for i in range(len(img_dec_array)):\n",
        "    ax[i].imshow(img_dec_array[i])\n",
        "    ax[i].set_title('iter: '+str(iters[i]+1))\n",
        "    ax[i].axis('off')\n",
        "# plt.imshow(img_dec_array[0])"
      ],
      "execution_count": null,
      "outputs": [
        {
          "output_type": "display_data",
          "data": {
            "image/png": "[encoded data removed]",
            "text/plain": [
              "<Figure size 1440x720 with 8 Axes>"
            ]
          },
          "metadata": {
            "tags": [],
            "needs_background": "light"
          }
        }
      ]
    },
    {
      "cell_type": "code",
      "metadata": {
        "id": "A7kSmtNgR9Tj"
      },
      "source": [
        ""
      ],
      "execution_count": null,
      "outputs": []
    },
    {
      "cell_type": "code",
      "metadata": {
        "id": "RVhZm8zgR9WU"
      },
      "source": [
        ""
      ],
      "execution_count": null,
      "outputs": []
    },
    {
      "cell_type": "code",
      "metadata": {
        "id": "ClcMbLHRR9Zn"
      },
      "source": [
        ""
      ],
      "execution_count": null,
      "outputs": []
    },
    {
      "cell_type": "code",
      "metadata": {
        "id": "g4DU6KjtR9cv"
      },
      "source": [
        ""
      ],
      "execution_count": null,
      "outputs": []
    },
    {
      "cell_type": "code",
      "metadata": {
        "id": "W-wfJpV_R9hT"
      },
      "source": [
        ""
      ],
      "execution_count": null,
      "outputs": []
    },
    {
      "cell_type": "code",
      "metadata": {
        "id": "u-C19xqdoDDm"
      },
      "source": [
        ""
      ],
      "execution_count": null,
      "outputs": []
    },
    {
      "cell_type": "markdown",
      "metadata": {
        "id": "zB6Nf9HCpxzd"
      },
      "source": [
        "## Evolution of decoding process"
      ]
    },
    {
      "cell_type": "code",
      "metadata": {
        "id": "GTyd0J9Zp4LV"
      },
      "source": [
        "def ldpc_decode_ev(cdw,sigma,H,cwd_original):\n",
        "  # initial step of decoding\n",
        "    L_ch = 2*cdw/sigma\n",
        "    L_v = L_ch\n",
        "    L_c = np.zeros(H.shape[0])\n",
        "    msg_table = np.ones(H.shape)\n",
        "\n",
        "    for i in np.arange(len(L_v)): # collect messages from variable nodes to check\n",
        "        msg_table[:,i][H[:,i]==1] = np.tanh(L_v[i]/2)\n",
        "\n",
        "    new_msg_table = msg_table.copy()\n",
        "    iter_L=[]\n",
        "    for iter in np.arange(15):\n",
        "\n",
        "        if iter!=0:\n",
        "            for ii in np.arange(H.shape[0]): \n",
        "                for jj in np.arange(H.shape[1]):\n",
        "                    if H[ii,jj] ==1 :\n",
        "                        msg_table[ii,jj] =  np.tanh((L_v[jj]-new_msg_table[ii,jj])/2)\n",
        "                        if msg_table[ii,jj]==1:\n",
        "                            msg_table[ii,jj] = 1-1e-15\n",
        "                            \n",
        "                        if msg_table[ii,jj]==-1:\n",
        "                            msg_table[ii,jj] = -1+1e-15\n",
        "       # print(msg_table)\n",
        "\n",
        "        for ii in np.arange(H.shape[0]): \n",
        "            for jj in np.arange(H.shape[1]):\n",
        "                if H[ii,jj] == 1:\n",
        "                          #messages from check to variable nodes\n",
        "\n",
        "                    new_msg_table[ii,jj] =  2*np.arctanh(np.prod(msg_table[ii,:][:jj])*np.prod(msg_table[ii,:][jj+1:]))\n",
        "\n",
        "        for j in np.arange(len(L_v)): # sum of all check node's message\n",
        "            L_v[j] = np.sum(new_msg_table[:,j][H[:,j]==1]) + L_ch[j]\n",
        "\n",
        "        iter_L.append(np.sum(cwd_original!=(1-np.sign(L_v))/2)/H.shape[1])\n",
        "    return (1-np.sign(L_v))/2, iter_L\n"
      ],
      "execution_count": null,
      "outputs": []
    },
    {
      "cell_type": "code",
      "metadata": {
        "id": "AvbKhcQip_K_"
      },
      "source": [
        "k = G.shape[0]\n",
        "n = G.shape[1]\n",
        "snr_db=1\n",
        "sigma = 10**(-snr_db/20)\n",
        "max_iter = 100\n",
        "\n",
        "iterations = np.zeros(15)\n",
        "\n",
        "for it in np.arange(max_iter):\n",
        "    v = np.random.randint(2, size=k)\n",
        "    y = np.mod(G.T@v,2)\n",
        "    cwd_modulated = 1 - 2*y\n",
        "    cwd_noised = cwd_modulated + np.random.normal(loc=0.0, scale=sigma, size=n)\n",
        "    decoded,L_it = ldpc_decode_ev(cwd_noised,sigma,H,y)\n",
        "    iterations+= L_it\n",
        "    \n",
        "iterations=iterations/max_iter"
      ],
      "execution_count": null,
      "outputs": []
    },
    {
      "cell_type": "code",
      "metadata": {
        "id": "5OQwi9Uwp_2F",
        "colab": {
          "base_uri": "https://localhost:8080/",
          "height": 295
        },
        "outputId": "499f55ab-2f0a-4575-f4f6-ef18a63b8d46"
      },
      "source": [
        "import matplotlib.pyplot as plt\n",
        "plt.plot(np.arange(15),iterations);\n",
        "plt.title('Bit error rate for first 15 decoding iterations, SNR=2')\n",
        "plt.xlabel('iteration')\n",
        "plt.grid()\n",
        "plt.ylabel('bER');"
      ],
      "execution_count": null,
      "outputs": [
        {
          "output_type": "display_data",
          "data": {
            "image/png": "[encoded data removed]",
            "text/plain": [
              "<Figure size 432x288 with 1 Axes>"
            ]
          },
          "metadata": {
            "tags": [],
            "needs_background": "light"
          }
        }
      ]
    },
    {
      "cell_type": "markdown",
      "metadata": {
        "id": "BbweDYOFsSMO"
      },
      "source": [
        "### Calculate statistics of Pr_err"
      ]
    },
    {
      "cell_type": "code",
      "metadata": {
        "colab": {
          "base_uri": "https://localhost:8080/"
        },
        "id": "TIXKwIefrnvY",
        "outputId": "87041b37-29e9-48c2-d2c4-a4342c7549cf"
      },
      "source": [
        "k = G.shape[0]\n",
        "n = G.shape[1]\n",
        "\n",
        "fer = []\n",
        "ber = []\n",
        "for snr in np.arange(-5,5):\n",
        "    sigma = 10**(-snr/20)\n",
        "    error = 0\n",
        "    error_bit = 0\n",
        "    N = 0\n",
        "    while (error < 10)&(N<500):\n",
        "        N += 1\n",
        "        v = np.random.randint(2, size=k)\n",
        "        y_correct = np.mod(G.T@v,2)\n",
        "        cwd_modulated = 1 - 2*y_correct\n",
        "        y_noise = cwd_modulated + np.random.normal(loc=0.0, scale=sigma, size=n)\n",
        "        decoded = ldpc_decode(y_noise,sigma,H)\n",
        "    \n",
        "        if sum(y_correct == decoded) != n:\n",
        "            error += 1\n",
        "            error_bit += n - sum(y_correct == decoded)\n",
        "        \n",
        "    print(f'FER: {error/N} snr in dB: {snr}')\n",
        "    print(f'bER: {error_bit/(N*n)} snr in dB: {snr}')\n",
        "    fer.append(error/N)\n",
        "    ber.append(error_bit/(N*n))"
      ],
      "execution_count": null,
      "outputs": [
        {
          "output_type": "stream",
          "text": [
            "FER: 1.0 snr in dB: -5\n",
            "bER: 0.3217857142857143 snr in dB: -5\n",
            "FER: 1.0 snr in dB: -4\n",
            "bER: 0.31285714285714283 snr in dB: -4\n",
            "FER: 1.0 snr in dB: -3\n",
            "bER: 0.2742857142857143 snr in dB: -3\n",
            "FER: 1.0 snr in dB: -2\n",
            "bER: 0.22392857142857142 snr in dB: -2\n",
            "FER: 1.0 snr in dB: -1\n",
            "bER: 0.2025 snr in dB: -1\n",
            "FER: 0.8333333333333334 snr in dB: 0\n",
            "bER: 0.0988095238095238 snr in dB: 0\n",
            "FER: 0.5555555555555556 snr in dB: 1\n",
            "bER: 0.05138888888888889 snr in dB: 1\n",
            "FER: 0.14705882352941177 snr in dB: 2\n",
            "bER: 0.010399159663865546 snr in dB: 2\n"
          ],
          "name": "stdout"
        }
      ]
    },
    {
      "cell_type": "code",
      "metadata": {
        "colab": {
          "base_uri": "https://localhost:8080/"
        },
        "id": "ITTzBPWTc0JU",
        "outputId": "36bda9a5-0c15-4e89-f88c-033d0fc3343a"
      },
      "source": [
        "k = G.shape[0]\n",
        "n = G.shape[1]\n",
        "\n",
        "fer = []\n",
        "ber = []\n",
        "for snr in np.arange(3,5):\n",
        "    sigma = 10**(-snr/20)\n",
        "    error = 0\n",
        "    error_bit = 0\n",
        "    N = 0\n",
        "    while (error < 10)&(N<500):\n",
        "        N += 1\n",
        "        v = np.random.randint(2, size=k)\n",
        "        y_correct = np.mod(G.T@v,2)\n",
        "        cwd_modulated = 1 - 2*y_correct\n",
        "        y_noise = cwd_modulated + np.random.normal(loc=0.0, scale=sigma, size=n)\n",
        "        decoded = ldpc_decode(y_noise,sigma,H)\n",
        "    \n",
        "        if sum(y_correct == decoded) != n:\n",
        "            error += 1\n",
        "            error_bit += n - sum(y_correct == decoded)\n",
        "        \n",
        "    print(f'FER: {error/N} snr in dB: {snr}')\n",
        "    print(f'bER: {error_bit/(N*n)} snr in dB: {snr}')\n",
        "    fer.append(error/N)\n",
        "    ber.append(error_bit/(N*n))"
      ],
      "execution_count": null,
      "outputs": [
        {
          "output_type": "stream",
          "text": [
            "FER: 0.008 snr in dB: 3\n",
            "bER: 0.00024285714285714286 snr in dB: 3\n",
            "FER: 0.0 snr in dB: 4\n",
            "bER: 0.0 snr in dB: 4\n"
          ],
          "name": "stdout"
        }
      ]
    },
    {
      "cell_type": "code",
      "metadata": {
        "id": "plphHSN4h6S8"
      },
      "source": [
        "fer = [1.0, 1.0, 1.0, 1.0, 1.0, 0.833, 0.556, 0.147, 0.008]\n",
        "ber = [0.322, 0.313, 0.274, 0.224, 0.2025, 0.099, 0.051, 0.0104, 0.00024]"
      ],
      "execution_count": null,
      "outputs": []
    },
    {
      "cell_type": "code",
      "metadata": {
        "colab": {
          "base_uri": "https://localhost:8080/",
          "height": 295
        },
        "id": "4aSN76fUsWy-",
        "outputId": "75769153-ade9-427b-f4b3-16b48ead6bed"
      },
      "source": [
        "import matplotlib.pyplot as plt\n",
        "\n",
        "plt.semilogy(np.arange(-5,4),fer,label='FER');\n",
        "plt.semilogy(np.arange(-5,4),ber,label='bER');\n",
        "plt.title('Probability of frame and bit error rate for different SNR')\n",
        "plt.xlabel('SNR')\n",
        "plt.grid()\n",
        "plt.legend()\n",
        "plt.ylabel('P_err');"
      ],
      "execution_count": null,
      "outputs": [
        {
          "output_type": "display_data",
          "data": {
            "image/png": "[encoded data removed]",
            "text/plain": [
              "<Figure size 432x288 with 1 Axes>"
            ]
          },
          "metadata": {
            "tags": [],
            "needs_background": "light"
          }
        }
      ]
    },
    {
      "cell_type": "code",
      "metadata": {
        "id": "_CsbHTrusZ59"
      },
      "source": [
        ""
      ],
      "execution_count": null,
      "outputs": []
    }
  ]
}